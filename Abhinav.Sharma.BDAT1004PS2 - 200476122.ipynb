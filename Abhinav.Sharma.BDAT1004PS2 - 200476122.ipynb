{
 "cells": [
  {
   "cell_type": "markdown",
   "id": "44e6471c",
   "metadata": {},
   "source": [
    "# Question1"
   ]
  },
  {
   "cell_type": "markdown",
   "id": "da1b49a0",
   "metadata": {},
   "source": [
    "To execute the below provided python module and execute set of statements and then interpret What value is displayed when the last expression (a) is evaluated"
   ]
  },
  {
   "cell_type": "code",
   "execution_count": 3,
   "id": "d949cc1a",
   "metadata": {},
   "outputs": [],
   "source": [
    "# provided Python module in Question1\n",
    "\n",
    "a = 0\n",
    "def b():\n",
    "    global a\n",
    "    a = c(a)\n",
    "    \n",
    "def c(a):\n",
    "    return a + 2"
   ]
  },
  {
   "cell_type": "code",
   "execution_count": 4,
   "id": "1c926470",
   "metadata": {},
   "outputs": [],
   "source": [
    "# First statement executed\n",
    "\n",
    "# It calls the function b() wherein global variable 'a' is defined. It then calls the function c(a) with argument a.\n",
    "# The function c() returns the value 2 back to function b() and global variable 'a' has now value 2\n",
    "b()"
   ]
  },
  {
   "cell_type": "code",
   "execution_count": 5,
   "id": "4c23ff5b",
   "metadata": {},
   "outputs": [],
   "source": [
    "# Second statement executed\n",
    "\n",
    "# It again calls the function b() wherein global variable 'a' is defined. However, this time the global variable 'a' has value 2 after first statement execution\n",
    "# It then calls the function c(a) with argument a i.e. value 2\n",
    "# The function c() returns the value 4 (2+2) back to function b() and global variable 'a' has now value 4\n",
    "b()"
   ]
  },
  {
   "cell_type": "code",
   "execution_count": 6,
   "id": "1c03fc09",
   "metadata": {},
   "outputs": [],
   "source": [
    "# Third statement executed\n",
    "\n",
    "# It again calls the function b() wherein global variable 'a' is defined. Now, this time the global variable 'a' has value 4 after second statement execution\n",
    "# It then calls the function c(a) with argument a i.e. value 4\n",
    "# The function c() returns the value 6 (4+2) back to function b() and global variable 'a' has now value 6\n",
    "b()"
   ]
  },
  {
   "cell_type": "code",
   "execution_count": 7,
   "id": "7ad710e8",
   "metadata": {},
   "outputs": [
    {
     "data": {
      "text/plain": [
       "6"
      ]
     },
     "execution_count": 7,
     "metadata": {},
     "output_type": "execute_result"
    }
   ],
   "source": [
    "# Fourth and final statement executed\n",
    "\n",
    "# The global variable 'a' has the value 6 after respective 1st, 2nd and 3rd statements execution as explained above\n",
    "# So, once we execute a, it displays the value 6 as shown below\n",
    "a"
   ]
  },
  {
   "cell_type": "markdown",
   "id": "4836d06f",
   "metadata": {},
   "source": [
    "# Question 2"
   ]
  },
  {
   "cell_type": "markdown",
   "id": "167fbe9f",
   "metadata": {},
   "source": [
    "To modify provided function fileLength() so that a friendly message is printed instead of error"
   ]
  },
  {
   "cell_type": "code",
   "execution_count": 9,
   "id": "2fc37733",
   "metadata": {},
   "outputs": [],
   "source": [
    "# Modifying the function fileLength() using try/except statement pair\n",
    "# Included a exception 'FileNotFoundError:' which will be executed only when FileNotFoundError is raised\n",
    "\n",
    "def fileLength(file_name):\n",
    "    'prints the length of file'\n",
    "    \n",
    "    try:\n",
    "        file = open(file_name)\n",
    "        contents = file.read()\n",
    "        file.close()\n",
    "        print(len(contents))\n",
    "    \n",
    "    except FileNotFoundError:\n",
    "        # This will be executed when a FileNotFoundError exception is raised\n",
    "        print('File {} not found.'.format(file_name))\n",
    "        "
   ]
  },
  {
   "cell_type": "code",
   "execution_count": 10,
   "id": "71015c5d",
   "metadata": {},
   "outputs": [
    {
     "name": "stdout",
     "output_type": "stream",
     "text": [
      "47930\n"
     ]
    }
   ],
   "source": [
    "# I have created a sample 'midterm.py' file in my folder and now calling the function fileLength(file_name) with file_name as 'midterm.py'\n",
    "# It returns a valid length value as it has some content\n",
    "file_name = 'midterm.py'\n",
    "fileLength(file_name)"
   ]
  },
  {
   "cell_type": "code",
   "execution_count": 11,
   "id": "9964ae59",
   "metadata": {},
   "outputs": [
    {
     "name": "stdout",
     "output_type": "stream",
     "text": [
      "File idterm.py not found.\n"
     ]
    }
   ],
   "source": [
    "# Now changing the file_name from 'midterm.py' to 'idterm.py' and calling the function fileLength(file_name) with file_name as 'idterm.py'\n",
    "# Ideally it should throw a FileNotFoundError as misspelt file name 'idterm.py' doesn't exsit, however, with the exception added it will bypass the error\n",
    "# As expected, it returns the message- \"File idterm.py not found.\"\n",
    "\n",
    "file_name = 'idterm.py' # changed the file name to 'idterm.py' instead of 'midterm.py'\n",
    "fileLength(file_name)"
   ]
  },
  {
   "cell_type": "markdown",
   "id": "b832c171",
   "metadata": {},
   "source": [
    "# Question 3"
   ]
  },
  {
   "cell_type": "markdown",
   "id": "3ad4a939",
   "metadata": {},
   "source": [
    "To write a class Marsupial() to perform given functionality and it's subclass Kangaroo that inherits all the attributes of Marsupial and extends the Marsupial __init__, includes method jump and overloads the __str__ operator"
   ]
  },
  {
   "cell_type": "code",
   "execution_count": 21,
   "id": "643e4b75",
   "metadata": {},
   "outputs": [
    {
     "name": "stdout",
     "output_type": "stream",
     "text": [
      "['doll', 'firetruck', 'kitten']\n"
     ]
    }
   ],
   "source": [
    "# Defining class Marsupial() which has 3 methods namely: __init__ , put_in_pouch and pouch_contents\n",
    "# __init__ : This function will create an empty list - myList\n",
    "# put_in_pouch() : This function will append items in the myList\n",
    "# pouch_contents(): This function will display contents in the myList\n",
    "\n",
    "class Marsupial():\n",
    "    'Class that appends list of items and displays list of contents'\n",
    "    \n",
    "    def __init__(self):\n",
    "        'Creates an empty list - myList'\n",
    "        self.myList = []\n",
    "    \n",
    "    def put_in_pouch(self, item):\n",
    "        'appends items in the myList'\n",
    "        self.myList.append(item)\n",
    "    \n",
    "    def pouch_contents(self):\n",
    "        'displays contents in the myList'\n",
    "        print(self.myList)\n",
    "\n",
    "# Provided set of statements to be executed\n",
    "\n",
    "m = Marsupial()\n",
    "m.put_in_pouch('doll')            # The function put_in_pouch() will append the item 'doll' in the list - myList\n",
    "m.put_in_pouch('firetruck')       # This will append the item 'firetruck' in the list - myList\n",
    "m.put_in_pouch('kitten')          # This will append the item 'kitten' in the list - myList\n",
    "m.pouch_contents()                # The function pouch_contents() will display all the item in the list - myList"
   ]
  },
  {
   "cell_type": "code",
   "execution_count": 39,
   "id": "cd7e179a",
   "metadata": {},
   "outputs": [
    {
     "name": "stdout",
     "output_type": "stream",
     "text": [
      "I am a Kangaroo located at coordinates (0,0)\n"
     ]
    }
   ],
   "source": [
    "# Defining class Kangaroo() as a subclass of Marsupial that inherits all the attributes of Marsupial\n",
    "# Extends the Marsupial __init__ to take, as input, the coordinates x and y of the Kangaroo object\n",
    "# Includes method jump that takes number values dx and dy as input and moves the kangaroo by dx units along the x-axis and by dy units along the y-axis\n",
    "# Overloads the __str__ operator to display output in given format\n",
    "\n",
    "class Kangaroo(Marsupial):\n",
    "    'subclass of Marsupial that extends the Marsupial __init__, includes method jump and overloads the __str__ operator'\n",
    "    \n",
    "    def __init__(self, x=0, y=0):\n",
    "          'Setting up the co-ordinates x and y of Kangaroo object as per argument values x and y'\n",
    "          Marsupial.__init__(self)\n",
    "          self.x = x\n",
    "          self.y = y\n",
    "        \n",
    "    def jump(self, dx=0, dy=0):\n",
    "        'Move the x and y coordinates of kangaroo object by dx and dy respectively'\n",
    "        self.x += dx\n",
    "        self.y += dy\n",
    "        \n",
    "    def __str__(self):\n",
    "        'displays the output in below format'\n",
    "        return 'I am a Kangaroo located at coordinates ({},{})'.format(self.x, self.y)\n",
    "\n",
    "# Provided set of statements to be executed\n",
    "\n",
    "k = Kangaroo(0,0)           # Passing arguments as (0,0)\n",
    "print(k)                    # This statement will print the output in given format with passed argument co-ordinates \n"
   ]
  },
  {
   "cell_type": "code",
   "execution_count": 40,
   "id": "aec7715c",
   "metadata": {},
   "outputs": [
    {
     "name": "stdout",
     "output_type": "stream",
     "text": [
      "['doll', 'firetruck', 'kitten']\n"
     ]
    }
   ],
   "source": [
    "# Next set of provided set of statements to be executed\n",
    "\n",
    "k.put_in_pouch('doll')            # The function put_in_pouch() is called and appends the item 'doll' in myList\n",
    "k.put_in_pouch('firetruck')       # This will append the item 'firetruck' in myList\n",
    "k.put_in_pouch('kitten')          # This will append the item 'kitten' in the myList\n",
    "k.pouch_contents()                # The function pouch_contents() will display all the items in the myList\n"
   ]
  },
  {
   "cell_type": "code",
   "execution_count": 41,
   "id": "50cf3b1d",
   "metadata": {},
   "outputs": [
    {
     "name": "stdout",
     "output_type": "stream",
     "text": [
      "I am a Kangaroo located at coordinates (3,0)\n"
     ]
    }
   ],
   "source": [
    "# Next set of provided set of statements to be executed\n",
    "\n",
    "k.jump(1,0)         # This statement will execute the method jump of Class Kangaroo and move the co-ordinates of x by 1, y co-ordinate will remain the same as dy is zero\n",
    "k.jump(1,0)         # This statement will execute the method jump of Class Kangaroo and move the co-ordinates of x by 1, y co-ordinate will remain the same as dy is zero\n",
    "k.jump(1,0)         # This statement will execute the method jump of Class Kangaroo and move the co-ordinates of x by 1, y co-ordinate will remain the same as dy is zero\n",
    "print(k)            # This statement will print the output with change of co-ordinates"
   ]
  },
  {
   "cell_type": "markdown",
   "id": "05b13c6e",
   "metadata": {},
   "source": [
    "# Question 4"
   ]
  },
  {
   "cell_type": "markdown",
   "id": "5537689e",
   "metadata": {},
   "source": [
    "To write a function collatz() that takes a positive integer x as input and prints the Collatz sequence starting at x. The function should stop when the sequence gets to number 1 and implementation must be recursive, without any loops. "
   ]
  },
  {
   "cell_type": "code",
   "execution_count": 60,
   "id": "8c75b5b8",
   "metadata": {},
   "outputs": [
    {
     "name": "stdout",
     "output_type": "stream",
     "text": [
      "Please enter a positive Integer number: 1\n",
      "1\n"
     ]
    }
   ],
   "source": [
    "# Defining function collatz() that takes a positive integer x as input\n",
    "\n",
    "def collatz(x):\n",
    "    if (x == 1):         # If number is equal to 1, function should stop and display value 1\n",
    "        print(1)\n",
    "    \n",
    "    elif (x < 1):        # If number is less than 1, function should stop and prompt user to try again\n",
    "        print(\"Please enter a positive number and try again\")\n",
    "        \n",
    "    elif (x % 2 == 0):    # If number is even perform below logic\n",
    "        print(int(x))     # print the value of x\n",
    "        x = x/2           # as per logic, number is set to number divided by 2\n",
    "        collatz(x)        # calling collatz(x) again with modified value of x\n",
    "        \n",
    "    else:                 # If number is Odd perform below logic\n",
    "        print(int(x))     # print the value of x\n",
    "        x = (x*3) + 1     # as per logic, number is set to (number multiplied by 3) and adding 1\n",
    "        collatz(x)        # calling collatz(x) again with modified value of x\n",
    "            \n",
    "x = int(input(\"Please enter a positive Integer number: \"))\n",
    "collatz(x)\n"
   ]
  },
  {
   "cell_type": "code",
   "execution_count": 61,
   "id": "9e884f06",
   "metadata": {},
   "outputs": [
    {
     "name": "stdout",
     "output_type": "stream",
     "text": [
      "Please enter a positive Integer number: 10\n",
      "10\n",
      "5\n",
      "16\n",
      "8\n",
      "4\n",
      "2\n",
      "1\n"
     ]
    }
   ],
   "source": [
    "# Defining function collatz() that takes a positive integer x as input\n",
    "\n",
    "def collatz(x):\n",
    "    if (x == 1):         # If number is equal to 1, function should stop and display value 1\n",
    "        print(1)\n",
    "    \n",
    "    elif (x < 1):        # If number is less than 1, function should stop and prompt user to try again\n",
    "        print(\"Please enter a positive number and try again\")\n",
    "        \n",
    "    elif (x % 2 == 0):    # If number is even perform below logic\n",
    "        print(int(x))     # print the value of x\n",
    "        x = x/2           # as per logic, number is set to number divided by 2\n",
    "        collatz(x)        # calling collatz(x) again with modified value of x\n",
    "        \n",
    "    else:                 # If number is Odd perform below logic\n",
    "        print(int(x))     # print the value of x\n",
    "        x = (x*3) + 1     # as per logic, number is set to (number multiplied by 3) and adding 1\n",
    "        collatz(x)        # calling collatz(x) again with modified value of x\n",
    "            \n",
    "x = int(input(\"Please enter a positive Integer number: \"))\n",
    "collatz(x)\n"
   ]
  },
  {
   "cell_type": "code",
   "execution_count": 62,
   "id": "900ca069",
   "metadata": {},
   "outputs": [
    {
     "name": "stdout",
     "output_type": "stream",
     "text": [
      "Please enter a positive Integer number: -2\n",
      "Please enter a positive number and try again\n"
     ]
    }
   ],
   "source": [
    "# Defining function collatz() that takes a positive integer x as input\n",
    "\n",
    "def collatz(x):\n",
    "    if (x == 1):         # If number is equal to 1, function should stop and display value 1\n",
    "        print(1)\n",
    "    \n",
    "    elif (x < 1):        # If number is less than 1, function should stop and prompt user to try again\n",
    "        print(\"Please enter a positive number and try again\")\n",
    "        \n",
    "    elif (x % 2 == 0):    # If number is even perform below logic\n",
    "        print(int(x))     # print the value of x\n",
    "        x = x/2           # as per logic, number is set to number divided by 2\n",
    "        collatz(x)        # calling collatz(x) again with modified value of x\n",
    "        \n",
    "    else:                 # If number is Odd perform below logic\n",
    "        print(int(x))     # print the value of x\n",
    "        x = (x*3) + 1     # as per logic, number is set to (number multiplied by 3) and adding 1\n",
    "        collatz(x)        # calling collatz(x) again with modified value of x\n",
    "            \n",
    "x = int(input(\"Please enter a positive Integer number: \"))\n",
    "collatz(x)\n"
   ]
  },
  {
   "cell_type": "markdown",
   "id": "2c71dc3a",
   "metadata": {},
   "source": [
    "# Question 5"
   ]
  },
  {
   "cell_type": "markdown",
   "id": "6168b907",
   "metadata": {},
   "source": [
    "To write a recursive method binary() that takes a non-negative integer n and prints the binary representation of integer n."
   ]
  },
  {
   "cell_type": "code",
   "execution_count": 98,
   "id": "8295a3bd",
   "metadata": {},
   "outputs": [
    {
     "name": "stdout",
     "output_type": "stream",
     "text": [
      "Please enter a non-negative Integer number: 0\n",
      "0"
     ]
    }
   ],
   "source": [
    "# Defining function binary() that takes a non-negative integer n and prints the binary representation of integer n.\n",
    "\n",
    "def binary(n):\n",
    "    if (n < 0):                 # If number is less than 1, function should prompt user to try again with message\n",
    "        print(\"Please enter a positive integer number and try again\")\n",
    "    \n",
    "    elif (n == 0):              # If number is equal to 0, function should display value as 0\n",
    "        print(0,end = '')\n",
    "        \n",
    "    elif (n == 1):              # If number is equal to 1, function should display value as 1\n",
    "        print(1 % 2,end = '')\n",
    "        \n",
    "    else:                       # If number is greater than 1, function should perform below logic\n",
    "       binary(n // 2)           # Using Recursive method i.e. calling binary(n) again with modified value of n\n",
    "       print(n % 2, end ='')    # print the value of n\n",
    "        \n",
    "n = int(input(\"Please enter a non-negative Integer number: \"))\n",
    "binary(n)\n"
   ]
  },
  {
   "cell_type": "code",
   "execution_count": 99,
   "id": "0c3fe69d",
   "metadata": {},
   "outputs": [
    {
     "name": "stdout",
     "output_type": "stream",
     "text": [
      "Please enter a non-negative Integer number: 1\n",
      "1"
     ]
    }
   ],
   "source": [
    "# Defining function binary() that takes a non-negative integer n and prints the binary representation of integer n.\n",
    "\n",
    "def binary(n):\n",
    "    if (n < 0):                 # If number is less than 1, function should prompt user to try again with message\n",
    "        print(\"Please enter a positive integer number and try again\")\n",
    "    \n",
    "    elif (n == 0):              # If number is equal to 0, function should display binary value as 0\n",
    "        print(0,end = '')\n",
    "        \n",
    "    elif (n == 1):              # If number is equal to 1, function should display binary value as 1\n",
    "        print(1 % 2,end = '')\n",
    "        \n",
    "    else:                       # If number is greater than 1, function should perform below logic\n",
    "       binary(n // 2)           # Using Recursive method i.e. calling binary(n) again with modified value of n\n",
    "       print(n % 2, end ='')    # print the value of n\n",
    "        \n",
    "n = int(input(\"Please enter a non-negative Integer number: \"))\n",
    "binary(n)\n"
   ]
  },
  {
   "cell_type": "code",
   "execution_count": 100,
   "id": "06c50e1f",
   "metadata": {},
   "outputs": [
    {
     "name": "stdout",
     "output_type": "stream",
     "text": [
      "Please enter a non-negative Integer number: 3\n",
      "11"
     ]
    }
   ],
   "source": [
    "# Defining function binary() that takes a non-negative integer n and prints the binary representation of integer n.\n",
    "\n",
    "def binary(n):\n",
    "    if (n < 0):                 # If number is less than 1, function should prompt user to try again with message\n",
    "        print(\"Please enter a positive integer number and try again\")\n",
    "    \n",
    "    elif (n == 0):              # If number is equal to 0, function should display binary value as 0\n",
    "        print(0,end = '')\n",
    "        \n",
    "    elif (n == 1):              # If number is equal to 1, function should display binary value as 1\n",
    "        print(1 % 2,end = '')\n",
    "        \n",
    "    else:                       # If number is greater than 1, function should perform below logic\n",
    "       binary(n // 2)           # Using Recursive method i.e. calling binary(n) again with modified value of n\n",
    "       print(n % 2, end ='')    # print the value of n\n",
    "        \n",
    "n = int(input(\"Please enter a non-negative Integer number: \"))\n",
    "binary(n)\n"
   ]
  },
  {
   "cell_type": "code",
   "execution_count": 102,
   "id": "9685c339",
   "metadata": {},
   "outputs": [
    {
     "name": "stdout",
     "output_type": "stream",
     "text": [
      "Please enter a non-negative Integer number: 9\n",
      "1001"
     ]
    }
   ],
   "source": [
    "# Defining function binary() that takes a non-negative integer n and prints the binary representation of integer n.\n",
    "\n",
    "def binary(n):\n",
    "    if (n < 0):                 # If number is less than 1, function should prompt user to try again with message\n",
    "        print(\"Please enter a positive integer number and try again\")\n",
    "    \n",
    "    elif (n == 0):              # If number is equal to 0, function should display binary value as 0\n",
    "        print(0,end = '')\n",
    "        \n",
    "    elif (n == 1):              # If number is equal to 1, function should display binary value as 1\n",
    "        print(1 % 2,end = '')\n",
    "        \n",
    "    else:                       # If number is greater than 1, function should perform below logic\n",
    "       binary(n // 2)           # Using Recursive method i.e. calling binary(n) again with modified value of n\n",
    "       print(n % 2, end ='')    # print the value of n\n",
    "        \n",
    "n = int(input(\"Please enter a non-negative Integer number: \"))\n",
    "binary(n)\n"
   ]
  },
  {
   "cell_type": "code",
   "execution_count": 104,
   "id": "a0e17e3c",
   "metadata": {},
   "outputs": [
    {
     "name": "stdout",
     "output_type": "stream",
     "text": [
      "Please enter a non-negative Integer number: -2\n",
      "Please enter a positive integer number and try again\n"
     ]
    }
   ],
   "source": [
    "# Defining function binary() that takes a non-negative integer n and prints the binary representation of integer n.\n",
    "\n",
    "def binary(n):\n",
    "    if (n < 0):                 # If number is less than 1, function should prompt user to try again with message\n",
    "        print(\"Please enter a positive integer number and try again\")\n",
    "    \n",
    "    elif (n == 0):              # If number is equal to 0, function should display binary value as 0\n",
    "        print(0,end = '')\n",
    "        \n",
    "    elif (n == 1):              # If number is equal to 1, function should display binary value as 1\n",
    "        print(1 % 2,end = '')\n",
    "        \n",
    "    else:                       # If number is greater than 1, function should perform below logic\n",
    "       binary(n // 2)           # Using Recursive method i.e. calling binary(n) again with modified value of n\n",
    "       print(n % 2, end ='')    # print the value of n\n",
    "        \n",
    "n = int(input(\"Please enter a non-negative Integer number: \"))\n",
    "binary(n)\n"
   ]
  },
  {
   "cell_type": "markdown",
   "id": "d1f3b1c3",
   "metadata": {},
   "source": [
    "# Question 6"
   ]
  },
  {
   "cell_type": "markdown",
   "id": "17ceae9c",
   "metadata": {},
   "source": [
    "To implement a class named HeadingParser that can be used to parse an HTML document, and retrieve and print all the headings in the document."
   ]
  },
  {
   "cell_type": "code",
   "execution_count": 119,
   "id": "9da3071b",
   "metadata": {},
   "outputs": [],
   "source": [
    "from html.parser import HTMLParser\n",
    "\n",
    "# Defining class HeadingParser as a subclass of HTMLParser\n",
    "# Prints the headings, one per line and in the order in which they appear in the document\n",
    "# Heading should have provided indentation\n",
    "\n",
    "class HeadingParser(HTMLParser):\n",
    "\n",
    "    c = 0     # initializing indicator 'c' for displaying only Headings \n",
    "    i = 0     # initializing counter 'i' for the purpose of indentation\n",
    "    \n",
    "    def handle_starttag(self, tag, attrs):\n",
    "        'To check start tags for headings'\n",
    "        \n",
    "        if tag in ['h1', 'h2', 'h3', 'h4', 'h5', 'h6']:\n",
    "            self.c = 1                     # setting the indicator to 1 if start tag  matches for Headings\n",
    "\n",
    "    def handle_data(self, data):\n",
    "        'print value of body if Heading indicator is set to 1 above'\n",
    "        \n",
    "        if self.c == 1:\n",
    "            # displaying right justified data by adding self.i\n",
    "            # For first Heading, self.i is initialized to zero i.e. self.i = 0 (for 1st Heading)\n",
    "            # For second Heading, self.i will be incremented by 1 i.e. self.i = 1 (for 2nd Heading), and so on\n",
    "            print(data.rjust(len(data) + self.i), end ='\\n') \n",
    "            \n",
    "    def handle_endtag(self, tag):\n",
    "        'To check end tags for headings'\n",
    "        \n",
    "        if tag in ['h1', 'h2', 'h3', 'h4', 'h5', 'h6', 'h7', 'h8', 'h9']:\n",
    "            self.c = 0                    # re-setting the indicator to 0 if end tag matches for Headings\n",
    "            self.i +=1                    # incrementing the indentation counter by 1 for next Heading for the purpose of indentation\n"
   ]
  },
  {
   "cell_type": "code",
   "execution_count": 121,
   "id": "f28a7d35",
   "metadata": {},
   "outputs": [
    {
     "name": "stdout",
     "output_type": "stream",
     "text": [
      "W3C Mission\n",
      " Principles\n"
     ]
    }
   ],
   "source": [
    "infile = open(\"C:/Users/abhis/Downloads/Backup-20211009T021753Z/Backup/Georgian/Classes/BDAT 1004_Data Programming/w3c.html\")  \n",
    "content = infile.read() \n",
    "infile.close() \n",
    "hp = HeadingParser() \n",
    "hp.feed(content)"
   ]
  },
  {
   "cell_type": "markdown",
   "id": "4a62f918",
   "metadata": {},
   "source": [
    "# Question 7"
   ]
  },
  {
   "cell_type": "code",
   "execution_count": 11,
   "id": "2cadbf81",
   "metadata": {},
   "outputs": [],
   "source": [
    "# Reference declaration- I am using the below Collector class (sub-class of HTMLParser), taught as part of Week 06 Lecture\n",
    "\n",
    "# The approach I am following to solve Question7 is by using the Collector class to get the list of links on a web page using \n",
    "# method getLinks()\n",
    "# Therafter, I am creating a function webdir() which will use collector.getLinks to get the links\n",
    "# Next step is to iterate over links and call the function webdir() recursively and print the URL's upto depth clicks/times\n",
    "# Herein, user is able to provide URL, depth and indent values to call the function webdir() and get the output\n",
    "\n",
    "from urllib.request import urlopen\n",
    "from urllib.parse import urljoin\n",
    "from html.parser import HTMLParser\n",
    "\n",
    "# Collector class as a sub-class of HTMLParser to get the list of links (taught as part of Weekly lecture 6)\n",
    "class Collector(HTMLParser):\n",
    "    'collects hyperlink URLs into a list'\n",
    "\n",
    "    def __init__(self, url):\n",
    "        'initializes parser, the url, and a list'\n",
    "        HTMLParser.__init__(self)\n",
    "        self.url = url\n",
    "        self.links = []\n",
    " \n",
    "    \n",
    "    def handle_starttag(self, tag, attrs):\n",
    "        'collects hyperlink URLs in their absolute format'\n",
    "        if tag == 'a':\n",
    "            for attr in attrs:\n",
    "                if attr[0] == 'href':\n",
    "                    # construct absolute URL\n",
    "                    absolute = urljoin(self.url, attr[1])\n",
    "                    if absolute[:4] == 'http': # collect HTTP URLs\n",
    "                        self.links.append(absolute)\n",
    "\n",
    "                        \n",
    "    def getLinks(self):\n",
    "        'returns hyperlinks URLs in their absolute format'\n",
    "        return self.links\n"
   ]
  },
  {
   "cell_type": "code",
   "execution_count": 12,
   "id": "ebd309d1",
   "metadata": {},
   "outputs": [],
   "source": [
    "# declaring i=0 , it is used in a loop from 0 to value of depth which is provided by user to get the URLs upto depth times\n",
    "i = 0\n",
    "\n",
    "# declaring and initializing a temporary variable 'temp' with zero to compare it with value of depth, to display \n",
    "# the URLs upto depth clicks\n",
    "temp = 0\n",
    "\n",
    "# defining function webdir() with url, depth and indent\n",
    "def webdir(url, depth=0, indent=0):\n",
    "    'recursive function to call function webdir() to print the list of URLs'\n",
    "\n",
    "    # to get links in the web page (below 4 lines is reference from Weekly lecture 6 to get the list of links)\n",
    "    content = urlopen(url).read().decode()\n",
    "    collector = Collector(url)\n",
    "    collector.feed(content)\n",
    "    links = collector.getLinks()                  # get list of links to iterate over loop as per below logic\n",
    "\n",
    "    # making temporary variable as global\n",
    "    global temp\n",
    "    \n",
    "    # iterating i over range depth which is passed from user so as to print the URLs upto depth clicks.\n",
    "    # For instance, if user gives the value of depth as 2, the loop will be iterated from 0 to 2 to diplay the links on each \n",
    "    # web page upto 2 clicks.\n",
    "    \n",
    "    for i in range (0, depth):      # iterating i over range depth (from zero to depth)\n",
    "        \n",
    "        if depth >= temp:           # to proceed below until temp equals depth (for displaying URLs upto and until depth clicks)\n",
    "\n",
    "            # recursively calling webdir() from every link in links\n",
    "            for link in links:\n",
    "                print(link)                       # displaying the URL for every link in the loop             \n",
    "                temp+=1                           # incrementing the value of temp by 1 every time\n",
    "                webdir(link, depth, indent)       # recursively calling function webdir() again\n",
    "                    "
   ]
  },
  {
   "cell_type": "code",
   "execution_count": 13,
   "id": "d6364490",
   "metadata": {},
   "outputs": [
    {
     "ename": "HTTPError",
     "evalue": "HTTP Error 404: ",
     "output_type": "error",
     "traceback": [
      "\u001b[1;31m---------------------------------------------------------------------------\u001b[0m",
      "\u001b[1;31mHTTPError\u001b[0m                                 Traceback (most recent call last)",
      "\u001b[1;32m<ipython-input-13-03319dc384ee>\u001b[0m in \u001b[0;36m<module>\u001b[1;34m\u001b[0m\n\u001b[0;32m      3\u001b[0m \u001b[1;31m# Here, once we call the function webdir() with below user values, it throws an error - HTTPError: HTTP Error 404:\u001b[0m\u001b[1;33m\u001b[0m\u001b[1;33m\u001b[0m\u001b[1;33m\u001b[0m\u001b[0m\n\u001b[0;32m      4\u001b[0m \u001b[1;31m# This is because the URL provided in Question7 doesn't exist - 'http://reed.cs.depaul.edu/lperkovic/csc242/test1.html'\u001b[0m\u001b[1;33m\u001b[0m\u001b[1;33m\u001b[0m\u001b[1;33m\u001b[0m\u001b[0m\n\u001b[1;32m----> 5\u001b[1;33m \u001b[0mwebdir\u001b[0m\u001b[1;33m(\u001b[0m\u001b[1;34m'http://reed.cs.depaul.edu/lperkovic/csc242/test1.html'\u001b[0m\u001b[1;33m,\u001b[0m \u001b[1;36m2\u001b[0m\u001b[1;33m,\u001b[0m \u001b[1;36m0\u001b[0m\u001b[1;33m)\u001b[0m\u001b[1;33m\u001b[0m\u001b[1;33m\u001b[0m\u001b[0m\n\u001b[0m\u001b[0;32m      6\u001b[0m \u001b[1;33m\u001b[0m\u001b[0m\n\u001b[0;32m      7\u001b[0m \u001b[1;31m# (NOTE: The HTTPError: HTTP Error 404: can be seen at the last of the Output displayed below)\u001b[0m\u001b[1;33m\u001b[0m\u001b[1;33m\u001b[0m\u001b[1;33m\u001b[0m\u001b[0m\n",
      "\u001b[1;32m<ipython-input-12-4d6ca7aa3b4d>\u001b[0m in \u001b[0;36mwebdir\u001b[1;34m(url, depth, indent)\u001b[0m\n\u001b[0;32m     11\u001b[0m \u001b[1;33m\u001b[0m\u001b[0m\n\u001b[0;32m     12\u001b[0m     \u001b[1;31m# to get links in the web page (below 4 lines is reference from Weekly lecture 6 to get the list of links)\u001b[0m\u001b[1;33m\u001b[0m\u001b[1;33m\u001b[0m\u001b[1;33m\u001b[0m\u001b[0m\n\u001b[1;32m---> 13\u001b[1;33m     \u001b[0mcontent\u001b[0m \u001b[1;33m=\u001b[0m \u001b[0murlopen\u001b[0m\u001b[1;33m(\u001b[0m\u001b[0murl\u001b[0m\u001b[1;33m)\u001b[0m\u001b[1;33m.\u001b[0m\u001b[0mread\u001b[0m\u001b[1;33m(\u001b[0m\u001b[1;33m)\u001b[0m\u001b[1;33m.\u001b[0m\u001b[0mdecode\u001b[0m\u001b[1;33m(\u001b[0m\u001b[1;33m)\u001b[0m\u001b[1;33m\u001b[0m\u001b[1;33m\u001b[0m\u001b[0m\n\u001b[0m\u001b[0;32m     14\u001b[0m     \u001b[0mcollector\u001b[0m \u001b[1;33m=\u001b[0m \u001b[0mCollector\u001b[0m\u001b[1;33m(\u001b[0m\u001b[0murl\u001b[0m\u001b[1;33m)\u001b[0m\u001b[1;33m\u001b[0m\u001b[1;33m\u001b[0m\u001b[0m\n\u001b[0;32m     15\u001b[0m     \u001b[0mcollector\u001b[0m\u001b[1;33m.\u001b[0m\u001b[0mfeed\u001b[0m\u001b[1;33m(\u001b[0m\u001b[0mcontent\u001b[0m\u001b[1;33m)\u001b[0m\u001b[1;33m\u001b[0m\u001b[1;33m\u001b[0m\u001b[0m\n",
      "\u001b[1;32m~\\anaconda3\\lib\\urllib\\request.py\u001b[0m in \u001b[0;36murlopen\u001b[1;34m(url, data, timeout, cafile, capath, cadefault, context)\u001b[0m\n\u001b[0;32m    220\u001b[0m     \u001b[1;32melse\u001b[0m\u001b[1;33m:\u001b[0m\u001b[1;33m\u001b[0m\u001b[1;33m\u001b[0m\u001b[0m\n\u001b[0;32m    221\u001b[0m         \u001b[0mopener\u001b[0m \u001b[1;33m=\u001b[0m \u001b[0m_opener\u001b[0m\u001b[1;33m\u001b[0m\u001b[1;33m\u001b[0m\u001b[0m\n\u001b[1;32m--> 222\u001b[1;33m     \u001b[1;32mreturn\u001b[0m \u001b[0mopener\u001b[0m\u001b[1;33m.\u001b[0m\u001b[0mopen\u001b[0m\u001b[1;33m(\u001b[0m\u001b[0murl\u001b[0m\u001b[1;33m,\u001b[0m \u001b[0mdata\u001b[0m\u001b[1;33m,\u001b[0m \u001b[0mtimeout\u001b[0m\u001b[1;33m)\u001b[0m\u001b[1;33m\u001b[0m\u001b[1;33m\u001b[0m\u001b[0m\n\u001b[0m\u001b[0;32m    223\u001b[0m \u001b[1;33m\u001b[0m\u001b[0m\n\u001b[0;32m    224\u001b[0m \u001b[1;32mdef\u001b[0m \u001b[0minstall_opener\u001b[0m\u001b[1;33m(\u001b[0m\u001b[0mopener\u001b[0m\u001b[1;33m)\u001b[0m\u001b[1;33m:\u001b[0m\u001b[1;33m\u001b[0m\u001b[1;33m\u001b[0m\u001b[0m\n",
      "\u001b[1;32m~\\anaconda3\\lib\\urllib\\request.py\u001b[0m in \u001b[0;36mopen\u001b[1;34m(self, fullurl, data, timeout)\u001b[0m\n\u001b[0;32m    529\u001b[0m         \u001b[1;32mfor\u001b[0m \u001b[0mprocessor\u001b[0m \u001b[1;32min\u001b[0m \u001b[0mself\u001b[0m\u001b[1;33m.\u001b[0m\u001b[0mprocess_response\u001b[0m\u001b[1;33m.\u001b[0m\u001b[0mget\u001b[0m\u001b[1;33m(\u001b[0m\u001b[0mprotocol\u001b[0m\u001b[1;33m,\u001b[0m \u001b[1;33m[\u001b[0m\u001b[1;33m]\u001b[0m\u001b[1;33m)\u001b[0m\u001b[1;33m:\u001b[0m\u001b[1;33m\u001b[0m\u001b[1;33m\u001b[0m\u001b[0m\n\u001b[0;32m    530\u001b[0m             \u001b[0mmeth\u001b[0m \u001b[1;33m=\u001b[0m \u001b[0mgetattr\u001b[0m\u001b[1;33m(\u001b[0m\u001b[0mprocessor\u001b[0m\u001b[1;33m,\u001b[0m \u001b[0mmeth_name\u001b[0m\u001b[1;33m)\u001b[0m\u001b[1;33m\u001b[0m\u001b[1;33m\u001b[0m\u001b[0m\n\u001b[1;32m--> 531\u001b[1;33m             \u001b[0mresponse\u001b[0m \u001b[1;33m=\u001b[0m \u001b[0mmeth\u001b[0m\u001b[1;33m(\u001b[0m\u001b[0mreq\u001b[0m\u001b[1;33m,\u001b[0m \u001b[0mresponse\u001b[0m\u001b[1;33m)\u001b[0m\u001b[1;33m\u001b[0m\u001b[1;33m\u001b[0m\u001b[0m\n\u001b[0m\u001b[0;32m    532\u001b[0m \u001b[1;33m\u001b[0m\u001b[0m\n\u001b[0;32m    533\u001b[0m         \u001b[1;32mreturn\u001b[0m \u001b[0mresponse\u001b[0m\u001b[1;33m\u001b[0m\u001b[1;33m\u001b[0m\u001b[0m\n",
      "\u001b[1;32m~\\anaconda3\\lib\\urllib\\request.py\u001b[0m in \u001b[0;36mhttp_response\u001b[1;34m(self, request, response)\u001b[0m\n\u001b[0;32m    638\u001b[0m         \u001b[1;31m# request was successfully received, understood, and accepted.\u001b[0m\u001b[1;33m\u001b[0m\u001b[1;33m\u001b[0m\u001b[1;33m\u001b[0m\u001b[0m\n\u001b[0;32m    639\u001b[0m         \u001b[1;32mif\u001b[0m \u001b[1;32mnot\u001b[0m \u001b[1;33m(\u001b[0m\u001b[1;36m200\u001b[0m \u001b[1;33m<=\u001b[0m \u001b[0mcode\u001b[0m \u001b[1;33m<\u001b[0m \u001b[1;36m300\u001b[0m\u001b[1;33m)\u001b[0m\u001b[1;33m:\u001b[0m\u001b[1;33m\u001b[0m\u001b[1;33m\u001b[0m\u001b[0m\n\u001b[1;32m--> 640\u001b[1;33m             response = self.parent.error(\n\u001b[0m\u001b[0;32m    641\u001b[0m                 'http', request, response, code, msg, hdrs)\n\u001b[0;32m    642\u001b[0m \u001b[1;33m\u001b[0m\u001b[0m\n",
      "\u001b[1;32m~\\anaconda3\\lib\\urllib\\request.py\u001b[0m in \u001b[0;36merror\u001b[1;34m(self, proto, *args)\u001b[0m\n\u001b[0;32m    567\u001b[0m         \u001b[1;32mif\u001b[0m \u001b[0mhttp_err\u001b[0m\u001b[1;33m:\u001b[0m\u001b[1;33m\u001b[0m\u001b[1;33m\u001b[0m\u001b[0m\n\u001b[0;32m    568\u001b[0m             \u001b[0margs\u001b[0m \u001b[1;33m=\u001b[0m \u001b[1;33m(\u001b[0m\u001b[0mdict\u001b[0m\u001b[1;33m,\u001b[0m \u001b[1;34m'default'\u001b[0m\u001b[1;33m,\u001b[0m \u001b[1;34m'http_error_default'\u001b[0m\u001b[1;33m)\u001b[0m \u001b[1;33m+\u001b[0m \u001b[0morig_args\u001b[0m\u001b[1;33m\u001b[0m\u001b[1;33m\u001b[0m\u001b[0m\n\u001b[1;32m--> 569\u001b[1;33m             \u001b[1;32mreturn\u001b[0m \u001b[0mself\u001b[0m\u001b[1;33m.\u001b[0m\u001b[0m_call_chain\u001b[0m\u001b[1;33m(\u001b[0m\u001b[1;33m*\u001b[0m\u001b[0margs\u001b[0m\u001b[1;33m)\u001b[0m\u001b[1;33m\u001b[0m\u001b[1;33m\u001b[0m\u001b[0m\n\u001b[0m\u001b[0;32m    570\u001b[0m \u001b[1;33m\u001b[0m\u001b[0m\n\u001b[0;32m    571\u001b[0m \u001b[1;31m# XXX probably also want an abstract factory that knows when it makes\u001b[0m\u001b[1;33m\u001b[0m\u001b[1;33m\u001b[0m\u001b[1;33m\u001b[0m\u001b[0m\n",
      "\u001b[1;32m~\\anaconda3\\lib\\urllib\\request.py\u001b[0m in \u001b[0;36m_call_chain\u001b[1;34m(self, chain, kind, meth_name, *args)\u001b[0m\n\u001b[0;32m    500\u001b[0m         \u001b[1;32mfor\u001b[0m \u001b[0mhandler\u001b[0m \u001b[1;32min\u001b[0m \u001b[0mhandlers\u001b[0m\u001b[1;33m:\u001b[0m\u001b[1;33m\u001b[0m\u001b[1;33m\u001b[0m\u001b[0m\n\u001b[0;32m    501\u001b[0m             \u001b[0mfunc\u001b[0m \u001b[1;33m=\u001b[0m \u001b[0mgetattr\u001b[0m\u001b[1;33m(\u001b[0m\u001b[0mhandler\u001b[0m\u001b[1;33m,\u001b[0m \u001b[0mmeth_name\u001b[0m\u001b[1;33m)\u001b[0m\u001b[1;33m\u001b[0m\u001b[1;33m\u001b[0m\u001b[0m\n\u001b[1;32m--> 502\u001b[1;33m             \u001b[0mresult\u001b[0m \u001b[1;33m=\u001b[0m \u001b[0mfunc\u001b[0m\u001b[1;33m(\u001b[0m\u001b[1;33m*\u001b[0m\u001b[0margs\u001b[0m\u001b[1;33m)\u001b[0m\u001b[1;33m\u001b[0m\u001b[1;33m\u001b[0m\u001b[0m\n\u001b[0m\u001b[0;32m    503\u001b[0m             \u001b[1;32mif\u001b[0m \u001b[0mresult\u001b[0m \u001b[1;32mis\u001b[0m \u001b[1;32mnot\u001b[0m \u001b[1;32mNone\u001b[0m\u001b[1;33m:\u001b[0m\u001b[1;33m\u001b[0m\u001b[1;33m\u001b[0m\u001b[0m\n\u001b[0;32m    504\u001b[0m                 \u001b[1;32mreturn\u001b[0m \u001b[0mresult\u001b[0m\u001b[1;33m\u001b[0m\u001b[1;33m\u001b[0m\u001b[0m\n",
      "\u001b[1;32m~\\anaconda3\\lib\\urllib\\request.py\u001b[0m in \u001b[0;36mhttp_error_default\u001b[1;34m(self, req, fp, code, msg, hdrs)\u001b[0m\n\u001b[0;32m    647\u001b[0m \u001b[1;32mclass\u001b[0m \u001b[0mHTTPDefaultErrorHandler\u001b[0m\u001b[1;33m(\u001b[0m\u001b[0mBaseHandler\u001b[0m\u001b[1;33m)\u001b[0m\u001b[1;33m:\u001b[0m\u001b[1;33m\u001b[0m\u001b[1;33m\u001b[0m\u001b[0m\n\u001b[0;32m    648\u001b[0m     \u001b[1;32mdef\u001b[0m \u001b[0mhttp_error_default\u001b[0m\u001b[1;33m(\u001b[0m\u001b[0mself\u001b[0m\u001b[1;33m,\u001b[0m \u001b[0mreq\u001b[0m\u001b[1;33m,\u001b[0m \u001b[0mfp\u001b[0m\u001b[1;33m,\u001b[0m \u001b[0mcode\u001b[0m\u001b[1;33m,\u001b[0m \u001b[0mmsg\u001b[0m\u001b[1;33m,\u001b[0m \u001b[0mhdrs\u001b[0m\u001b[1;33m)\u001b[0m\u001b[1;33m:\u001b[0m\u001b[1;33m\u001b[0m\u001b[1;33m\u001b[0m\u001b[0m\n\u001b[1;32m--> 649\u001b[1;33m         \u001b[1;32mraise\u001b[0m \u001b[0mHTTPError\u001b[0m\u001b[1;33m(\u001b[0m\u001b[0mreq\u001b[0m\u001b[1;33m.\u001b[0m\u001b[0mfull_url\u001b[0m\u001b[1;33m,\u001b[0m \u001b[0mcode\u001b[0m\u001b[1;33m,\u001b[0m \u001b[0mmsg\u001b[0m\u001b[1;33m,\u001b[0m \u001b[0mhdrs\u001b[0m\u001b[1;33m,\u001b[0m \u001b[0mfp\u001b[0m\u001b[1;33m)\u001b[0m\u001b[1;33m\u001b[0m\u001b[1;33m\u001b[0m\u001b[0m\n\u001b[0m\u001b[0;32m    650\u001b[0m \u001b[1;33m\u001b[0m\u001b[0m\n\u001b[0;32m    651\u001b[0m \u001b[1;32mclass\u001b[0m \u001b[0mHTTPRedirectHandler\u001b[0m\u001b[1;33m(\u001b[0m\u001b[0mBaseHandler\u001b[0m\u001b[1;33m)\u001b[0m\u001b[1;33m:\u001b[0m\u001b[1;33m\u001b[0m\u001b[1;33m\u001b[0m\u001b[0m\n",
      "\u001b[1;31mHTTPError\u001b[0m: HTTP Error 404: "
     ]
    }
   ],
   "source": [
    "# calling function webdir() passing required arguments i.e. URL, depth and indent values \n",
    "\n",
    "# Here, once we call the function webdir() with below user values, it throws an error - HTTPError: HTTP Error 404:\n",
    "# This is because the URL provided in Question7 doesn't exist - 'http://reed.cs.depaul.edu/lperkovic/csc242/test1.html'\n",
    "webdir('http://reed.cs.depaul.edu/lperkovic/csc242/test1.html', 2, 0)\n",
    "\n",
    "# (NOTE: The HTTPError: HTTP Error 404: can be seen at the last of the Output displayed below)\n"
   ]
  },
  {
   "cell_type": "code",
   "execution_count": 14,
   "id": "b49844ed",
   "metadata": {},
   "outputs": [
    {
     "name": "stdout",
     "output_type": "stream",
     "text": [
      "http://reed.cs.depaul.edu/lperkovic/two.html\n",
      "http://reed.cs.depaul.edu/lperkovic/four.html\n",
      "http://reed.cs.depaul.edu/lperkovic/five.html\n",
      "http://reed.cs.depaul.edu/lperkovic/three.html\n"
     ]
    }
   ],
   "source": [
    "# calling function webdir() again passing required arguments i.e. URL, depth and indentation values \n",
    "\n",
    "# However, if I tried with a valid URL 'http://reed.cs.depaul.edu/lperkovic/csc242/test1.html', it shows the output as per \n",
    "# logic introduced\n",
    "webdir('http://reed.cs.depaul.edu/lperkovic/one.html', 2, 0)\n",
    "\n",
    "# NOTE- This is one of URL that was referenced in Weekly lecture 6, so I have tried executing the function webdir() using \n",
    "# this URL - 'http://reed.cs.depaul.edu/lperkovic/one.html'\n"
   ]
  },
  {
   "cell_type": "markdown",
   "id": "75ae2fbd",
   "metadata": {},
   "source": [
    "# Question 8"
   ]
  },
  {
   "cell_type": "markdown",
   "id": "f7d39394",
   "metadata": {},
   "source": [
    "To write SQL queries on the provided database table that answers sub-parts 8(a) - 8(h)"
   ]
  },
  {
   "cell_type": "code",
   "execution_count": 3,
   "id": "c1f73f35",
   "metadata": {},
   "outputs": [
    {
     "data": {
      "text/plain": [
       "[('Mumbai', 'India', 'Winter', 24.8, 5.9),\n",
       " ('Mumbai', 'India', 'Spring', 28.4, 16.2),\n",
       " ('Mumbai', 'India', 'Summer', 27.9, 1549.4),\n",
       " ('Mumbai', 'India', 'Fall', 27.6, 346.0),\n",
       " ('London', 'United Kindom', 'Winter', 4.2, 207.7),\n",
       " ('London', 'United Kindom', 'Spring', 8.3, 169.6),\n",
       " ('London', 'United Kindom', 'Summer', 15.7, 157.0),\n",
       " ('London', 'United Kindom', 'Fall', 10.4, 218.5),\n",
       " ('Cairo', 'Egypt', 'Winter', 13.6, 16.5),\n",
       " ('Cairo', 'Egypt', 'Spring', 20.7, 6.5),\n",
       " ('Cairo', 'Egypt', 'Summer', 27.7, 0.1),\n",
       " ('Cairo', 'Egypt', 'Fall', 22.2, 4.5)]"
      ]
     },
     "execution_count": 3,
     "metadata": {},
     "output_type": "execute_result"
    }
   ],
   "source": [
    "# Firstly creating a table named 'cityInfo' using requisite syntax and using all the data provided in tabular format in Question8 to create table cityInfo\n",
    "\n",
    "import sqlite3\n",
    "con = sqlite3.connect('cInfo.db')\n",
    "cur = con.cursor()\n",
    "cur.execute(\"CREATE TABLE cityInfo (City text, Country text, Season text, Temperature double, Rainfall double)\")\n",
    "cur.execute(\"INSERT INTO cityInfo VALUES ('Mumbai', 'India', 'Winter', 24.8, 5.9), ('Mumbai','India', 'Spring', 28.4, 16.2), ('Mumbai','India', 'Summer', 27.9, 1549.4), ('Mumbai','India', 'Fall', 27.6, 346.0)\")\n",
    "cur.execute(\"INSERT INTO cityInfo VALUES ('London', 'United Kindom', 'Winter', 4.2, 207.7), ('London', 'United Kindom', 'Spring', 8.3, 169.6), ('London', 'United Kindom', 'Summer', 15.7, 157.0), ('London', 'United Kindom', 'Fall', 10.4, 218.5)\")\n",
    "cur.execute(\"INSERT INTO cityInfo VALUES ('Cairo', 'Egypt', 'Winter', 13.6, 16.5), ('Cairo', 'Egypt', 'Spring', 20.7, 6.5), ('Cairo', 'Egypt', 'Summer', 27.7, 0.1), ('Cairo', 'Egypt', 'Fall', 22.2, 4.5)\")\n",
    "\n",
    "# Selcting all the data from the cityInfo table and displaying to verify if cityInfo table created correctly as required\n",
    "cur.execute('SELECT * FROM cityInfo')\n",
    "cur.fetchall()"
   ]
  },
  {
   "cell_type": "markdown",
   "id": "f67ae94a",
   "metadata": {},
   "source": [
    "8(a): All the temperature data."
   ]
  },
  {
   "cell_type": "code",
   "execution_count": 4,
   "id": "a9295c1b",
   "metadata": {},
   "outputs": [
    {
     "data": {
      "text/plain": [
       "[(24.8,),\n",
       " (28.4,),\n",
       " (27.9,),\n",
       " (27.6,),\n",
       " (4.2,),\n",
       " (8.3,),\n",
       " (15.7,),\n",
       " (10.4,),\n",
       " (13.6,),\n",
       " (20.7,),\n",
       " (27.7,),\n",
       " (22.2,)]"
      ]
     },
     "execution_count": 4,
     "metadata": {},
     "output_type": "execute_result"
    }
   ],
   "source": [
    "# SQL query: SELECT Temperature FROM cityInfo;\n",
    "\n",
    "cur.execute('SELECT Temperature FROM cityInfo')\n",
    "cur.fetchall()"
   ]
  },
  {
   "cell_type": "markdown",
   "id": "9bb41827",
   "metadata": {},
   "source": [
    "8(b): All the cities, but without repetition."
   ]
  },
  {
   "cell_type": "code",
   "execution_count": 130,
   "id": "3b37d0e6",
   "metadata": {},
   "outputs": [
    {
     "data": {
      "text/plain": [
       "[('Mumbai',), ('London',), ('Cairo',)]"
      ]
     },
     "execution_count": 130,
     "metadata": {},
     "output_type": "execute_result"
    }
   ],
   "source": [
    "# SQL query: SELECT DISTINCT City FROM cityInfo;\n",
    "\n",
    "cur.execute('SELECT DISTINCT(City) FROM cityInfo')\n",
    "cur.fetchall()"
   ]
  },
  {
   "cell_type": "markdown",
   "id": "9342bff1",
   "metadata": {},
   "source": [
    "8(c): All the records for India."
   ]
  },
  {
   "cell_type": "code",
   "execution_count": 5,
   "id": "400a96b0",
   "metadata": {},
   "outputs": [
    {
     "data": {
      "text/plain": [
       "[('Mumbai', 'India', 'Winter', 24.8, 5.9),\n",
       " ('Mumbai', 'India', 'Spring', 28.4, 16.2),\n",
       " ('Mumbai', 'India', 'Summer', 27.9, 1549.4),\n",
       " ('Mumbai', 'India', 'Fall', 27.6, 346.0)]"
      ]
     },
     "execution_count": 5,
     "metadata": {},
     "output_type": "execute_result"
    }
   ],
   "source": [
    "# SQL query: SELECT * FROM cityInfo where Country = \"India\";\n",
    "\n",
    "cur.execute('SELECT * FROM cityInfo where Country = \"India\"')\n",
    "cur.fetchall()"
   ]
  },
  {
   "cell_type": "markdown",
   "id": "74de4784",
   "metadata": {},
   "source": [
    "8(d): All the Fall records."
   ]
  },
  {
   "cell_type": "code",
   "execution_count": 6,
   "id": "2b4c6b18",
   "metadata": {},
   "outputs": [
    {
     "data": {
      "text/plain": [
       "[('Mumbai', 'India', 'Fall', 27.6, 346.0),\n",
       " ('London', 'United Kindom', 'Fall', 10.4, 218.5),\n",
       " ('Cairo', 'Egypt', 'Fall', 22.2, 4.5)]"
      ]
     },
     "execution_count": 6,
     "metadata": {},
     "output_type": "execute_result"
    }
   ],
   "source": [
    "# SQL query: SELECT * FROM cityInfo where Season = \"Fall\";\n",
    "\n",
    "cur.execute('SELECT * FROM cityInfo where Season = \"Fall\"')\n",
    "cur.fetchall()"
   ]
  },
  {
   "cell_type": "markdown",
   "id": "c9897e77",
   "metadata": {},
   "source": [
    "8(e):The city, country, and season for which the average rainfall is between 200 and 400 millimeters."
   ]
  },
  {
   "cell_type": "code",
   "execution_count": 7,
   "id": "a523986f",
   "metadata": {},
   "outputs": [
    {
     "data": {
      "text/plain": [
       "[('London', 'United Kindom', 'Fall', 218.5),\n",
       " ('London', 'United Kindom', 'Winter', 207.7),\n",
       " ('Mumbai', 'India', 'Fall', 346.0)]"
      ]
     },
     "execution_count": 7,
     "metadata": {},
     "output_type": "execute_result"
    }
   ],
   "source": [
    "# SQL query: SELECT City, Country, Season, AVG(Rainfall) FROM cityInfo GROUP BY City, Country, Season HAVING AVG(Rainfall) >= 200 and AVG(Rainfall) <= 400;\n",
    "\n",
    "cur.execute('SELECT City, Country, Season, AVG(Rainfall) FROM cityInfo GROUP BY City, Country, Season HAVING AVG(Rainfall) >= 200 and AVG(Rainfall) <= 400')\n",
    "cur.fetchall()"
   ]
  },
  {
   "cell_type": "markdown",
   "id": "08300b39",
   "metadata": {},
   "source": [
    "8(f):The city and country for which the average Fall temperature is above 20 degrees, in increasing temperature order."
   ]
  },
  {
   "cell_type": "code",
   "execution_count": 8,
   "id": "c86c2684",
   "metadata": {},
   "outputs": [
    {
     "data": {
      "text/plain": [
       "[('Cairo', 'Egypt', 23.53333333333333),\n",
       " ('Mumbai', 'India', 27.174999999999997)]"
      ]
     },
     "execution_count": 8,
     "metadata": {},
     "output_type": "execute_result"
    }
   ],
   "source": [
    "# SQL query: SELECT City, Country, AVG(Temperature) FROM cityInfo where Temperature > 20 GROUP BY City, Country HAVING AVG(Temperature) > 20 ORDER By Temperature ASC;\n",
    "\n",
    "cur.execute('SELECT City, Country, AVG(Temperature) FROM cityInfo where Temperature > 20 GROUP BY City, Country HAVING AVG(Temperature) > 20 ORDER By Temperature ASC')\n",
    "cur.fetchall()"
   ]
  },
  {
   "cell_type": "markdown",
   "id": "61b7271a",
   "metadata": {},
   "source": [
    "8(g):The total annual rainfall for Cairo."
   ]
  },
  {
   "cell_type": "code",
   "execution_count": 9,
   "id": "c438a51b",
   "metadata": {},
   "outputs": [
    {
     "data": {
      "text/plain": [
       "[(27.6,)]"
      ]
     },
     "execution_count": 9,
     "metadata": {},
     "output_type": "execute_result"
    }
   ],
   "source": [
    "# SQL query: SELECT SUM(Rainfall) FROM cityInfo WHERE City = \"Cairo\";\n",
    "\n",
    "cur.execute('SELECT SUM(Rainfall) FROM cityInfo WHERE City = \"Cairo\"')\n",
    "cur.fetchall()"
   ]
  },
  {
   "cell_type": "markdown",
   "id": "3babf7e8",
   "metadata": {},
   "source": [
    "8(h):The total rainfall for each season."
   ]
  },
  {
   "cell_type": "code",
   "execution_count": 10,
   "id": "25fae813",
   "metadata": {},
   "outputs": [
    {
     "data": {
      "text/plain": [
       "[('Fall', 569.0),\n",
       " ('Spring', 192.29999999999998),\n",
       " ('Summer', 1706.5),\n",
       " ('Winter', 230.1)]"
      ]
     },
     "execution_count": 10,
     "metadata": {},
     "output_type": "execute_result"
    }
   ],
   "source": [
    "# SQL query: SELECT Season, SUM(Rainfall) FROM cityInfo GROUP BY Season;\n",
    "\n",
    "cur.execute('SELECT Season, SUM(Rainfall) FROM cityInfo GROUP BY Season')\n",
    "cur.fetchall()"
   ]
  },
  {
   "cell_type": "markdown",
   "id": "6edb1e4e",
   "metadata": {},
   "source": [
    "# Question 9"
   ]
  },
  {
   "cell_type": "markdown",
   "id": "9d9e753f",
   "metadata": {},
   "source": [
    "To write list comprehension expressions that use list words and generate the following lists: 9(a) - 9(e)"
   ]
  },
  {
   "cell_type": "markdown",
   "id": "24be31fc",
   "metadata": {},
   "source": [
    "9(a): To convert all words in the list words into upper case"
   ]
  },
  {
   "cell_type": "code",
   "execution_count": 167,
   "id": "619e8743",
   "metadata": {},
   "outputs": [
    {
     "name": "stdout",
     "output_type": "stream",
     "text": [
      "['THE', 'QUICK', 'BROWN', 'FOX', 'JUMPS', 'OVER', 'THE', 'LAZY', 'DOG']\n"
     ]
    }
   ],
   "source": [
    "# Given list\n",
    "words = ['The', 'quick', 'brown', 'fox', 'jumps', 'over', 'the', 'lazy', 'dog']\n",
    "\n",
    "# Declaring an empty list\n",
    "listA = []\n",
    "\n",
    "# Iterating over each word in the given list and appending each upper case word in the list words to the new listA\n",
    "for word in words:\n",
    "    listA.append(word.upper())\n",
    "\n",
    "# Displaying new listA\n",
    "print(listA)"
   ]
  },
  {
   "cell_type": "markdown",
   "id": "cd40b8f9",
   "metadata": {},
   "source": [
    "9(a): To convert all words in the list words into lower case"
   ]
  },
  {
   "cell_type": "code",
   "execution_count": 168,
   "id": "7cd6fc29",
   "metadata": {},
   "outputs": [
    {
     "name": "stdout",
     "output_type": "stream",
     "text": [
      "['the', 'quick', 'brown', 'fox', 'jumps', 'over', 'the', 'lazy', 'dog']\n"
     ]
    }
   ],
   "source": [
    "# Given list\n",
    "words = ['The', 'quick', 'brown', 'fox', 'jumps', 'over', 'the', 'lazy', 'dog']\n",
    "\n",
    "# Declaring an empty list\n",
    "listB = []\n",
    "\n",
    "# Iterating over each word in the given list and appending each lower case word in the list words to the new listB\n",
    "for word in words:\n",
    "    listB.append(word.lower())\n",
    "\n",
    "# Displaying new listB\n",
    "print(listB)"
   ]
  },
  {
   "cell_type": "markdown",
   "id": "80fcabb0",
   "metadata": {},
   "source": [
    "9(c): To display the list of lengths of words in list words"
   ]
  },
  {
   "cell_type": "code",
   "execution_count": 169,
   "id": "9a636ff2",
   "metadata": {},
   "outputs": [
    {
     "name": "stdout",
     "output_type": "stream",
     "text": [
      "[3, 5, 5, 3, 5, 4, 3, 4, 3]\n"
     ]
    }
   ],
   "source": [
    "# Given list\n",
    "words = ['The', 'quick', 'brown', 'fox', 'jumps', 'over', 'the', 'lazy', 'dog']\n",
    "\n",
    "# Declaring an empty list\n",
    "listC = []\n",
    "\n",
    "# Iterating over each word in the given list and appending the lengths of each word in the list words to the new listC\n",
    "for word in words:\n",
    "    listC.append(len(word))\n",
    "\n",
    "# Displaying new listC\n",
    "print(listC)"
   ]
  },
  {
   "cell_type": "markdown",
   "id": "61019d5b",
   "metadata": {},
   "source": [
    "9(d): The list containing a list for every word of list words, where each list contains the word in uppercase and lowercase and the length of the word."
   ]
  },
  {
   "cell_type": "code",
   "execution_count": 170,
   "id": "c6082e0b",
   "metadata": {},
   "outputs": [
    {
     "name": "stdout",
     "output_type": "stream",
     "text": [
      "[['THE', 'the', 3], ['QUICK', 'quick', 5], ['BROWN', 'brown', 5], ['FOX', 'fox', 3], ['JUMPS', 'jumps', 5], ['OVER', 'over', 4], ['THE', 'the', 3], ['LAZY', 'lazy', 4], ['DOG', 'dog', 3]]\n"
     ]
    }
   ],
   "source": [
    "# Given list\n",
    "words = ['The', 'quick', 'brown', 'fox', 'jumps', 'over', 'the', 'lazy', 'dog']\n",
    "\n",
    "# Declaring an empty list\n",
    "listD = []\n",
    "\n",
    "# Iterating over each word in the given list and appending every word in the list words in uppercase, lowercase and it's length as a list to the new listD\n",
    "for word in words:\n",
    "    listD.append([word.upper(), word.lower(), len(word)])\n",
    "\n",
    "# Displaying new listD\n",
    "print(listD)"
   ]
  },
  {
   "cell_type": "markdown",
   "id": "0131c410",
   "metadata": {},
   "source": [
    "9(e): The list of words in list words containing 4 or more characters."
   ]
  },
  {
   "cell_type": "code",
   "execution_count": 171,
   "id": "642e2e72",
   "metadata": {},
   "outputs": [
    {
     "name": "stdout",
     "output_type": "stream",
     "text": [
      "['quick', 'brown', 'jumps', 'over', 'lazy']\n"
     ]
    }
   ],
   "source": [
    "# Given list\n",
    "words = ['The', 'quick', 'brown', 'fox', 'jumps', 'over', 'the', 'lazy', 'dog']\n",
    "\n",
    "# Declaring an empty list\n",
    "listE = []\n",
    "\n",
    "# Iterating over each word in the given list and appending each word in the list words to the new listE if length of that word is greater than or equal to 4\n",
    "for word in words:\n",
    "    if len(word) >= 4:\n",
    "        listE.append(word)\n",
    "\n",
    "# Displaying new listE\n",
    "print(listE)"
   ]
  },
  {
   "cell_type": "code",
   "execution_count": null,
   "id": "07ca71ee",
   "metadata": {},
   "outputs": [],
   "source": []
  }
 ],
 "metadata": {
  "kernelspec": {
   "display_name": "Python 3",
   "language": "python",
   "name": "python3"
  },
  "language_info": {
   "codemirror_mode": {
    "name": "ipython",
    "version": 3
   },
   "file_extension": ".py",
   "mimetype": "text/x-python",
   "name": "python",
   "nbconvert_exporter": "python",
   "pygments_lexer": "ipython3",
   "version": "3.8.8"
  }
 },
 "nbformat": 4,
 "nbformat_minor": 5
}
